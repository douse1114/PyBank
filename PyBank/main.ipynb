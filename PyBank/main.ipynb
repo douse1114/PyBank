{
 "cells": [
  {
   "cell_type": "code",
   "execution_count": 81,
   "metadata": {},
   "outputs": [
    {
     "name": "stdout",
     "output_type": "stream",
     "text": [
      "Financial Analysis\n",
      "----------------------------\n",
      "Total Months: 86\n",
      "Total: $38382578\n",
      "Average Change: -2315.12\n",
      "Greatest Increase in Profits: Feb-2012 ($1926159)\n",
      "Greatest Decrease in Profits: Sep-2013 ($-2196167)\n"
     ]
    }
   ],
   "source": [
    "from pathlib import Path\n",
    "import csv\n",
    "\n",
    "csvpath = Path('../PyBank/budget_data.csv')\n",
    "\n",
    "months = []\n",
    "total_profit = []\n",
    "monthly_change = []\n",
    "\n",
    "with open(csvpath) as csvfile:\n",
    "    csvreader = csv.reader(csvfile, delimiter=',')\n",
    "    header = next(csvreader)  \n",
    "    for row in csvreader: \n",
    "        months.append(row[0])\n",
    "        total_profit.append(int(row[1]))\n",
    "        \n",
    "    for i in range(len(total_profit)-1):\n",
    "        monthly_change.append(total_profit[i+1]-total_profit[i])\n",
    "        \n",
    "max_increase_value = max(monthly_change)\n",
    "max_decrease_value = min(monthly_change)\n",
    "\n",
    "max_increase_month = monthly_change.index(max(monthly_change)) + 1\n",
    "max_decrease_month = monthly_change.index(min(monthly_change)) + 1 \n",
    "\n",
    "print(\"Financial Analysis\")\n",
    "print(\"----------------------------\")\n",
    "print(f\"Total Months: {len(months)}\")\n",
    "print(f\"Total: ${sum(total_profit)}\")\n",
    "print(f\"Average Change: {round(sum(monthly_change)/len(monthly_change),2)}\")\n",
    "print(f\"Greatest Increase in Profits: {months[max_increase_month]} (${(str(max_increase_value))})\")\n",
    "print(f\"Greatest Decrease in Profits: {months[max_decrease_month]} (${(str(max_decrease_value))})\")\n"
   ]
  }
 ],
 "metadata": {
  "kernelspec": {
   "display_name": "Python 3",
   "language": "python",
   "name": "python3"
  },
  "language_info": {
   "codemirror_mode": {
    "name": "ipython",
    "version": 3
   },
   "file_extension": ".py",
   "mimetype": "text/x-python",
   "name": "python",
   "nbconvert_exporter": "python",
   "pygments_lexer": "ipython3",
   "version": "3.8.5"
  }
 },
 "nbformat": 4,
 "nbformat_minor": 4
}
